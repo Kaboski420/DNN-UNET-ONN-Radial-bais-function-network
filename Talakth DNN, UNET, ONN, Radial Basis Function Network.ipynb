{
 "cells": [
  {
   "cell_type": "code",
   "execution_count": 102,
   "id": "797c2eaa",
   "metadata": {},
   "outputs": [],
   "source": [
    "#pip install --upgrade onn\n",
    "#pip install -U imbalanced-learn\n",
    "\n",
    "from pandas import read_csv\n",
    "from memory_profiler import profile\n",
    "# supresses future warnings \n",
    "import warnings                                                 \n",
    "warnings.simplefilter(action='ignore')\n",
    "import pandas as pd\n",
    "import time\n",
    "import warnings\n",
    "from sklearn.metrics import confusion_matrix, classification_report, auc, precision_recall_curve, average_precision_score\n",
    "from tensorflow.keras.models import Sequential\n",
    "from tensorflow.keras.layers import Dense\n",
    "from keras import layers\n",
    "from tensorflow.keras.wrappers.scikit_learn import KerasRegressor\n",
    "from keras.layers import Input, BatchNormalization, Activation, Dense, Dropout\n",
    "from keras.layers.convolutional import Conv2D, Conv2DTranspose\n",
    "from keras.models import Model, load_model\n",
    "from keras.layers.pooling import MaxPooling2D, GlobalMaxPool2D\n",
    "from keras.layers import concatenate, add\n",
    "from keras.callbacks import EarlyStopping, ModelCheckpoint, ReduceLROnPlateau\n",
    "from keras.optimizers import Adam\n",
    "import tensorflow as tf\n",
    "from tensorflow.keras.layers import LSTM\n",
    "from tensorflow.keras.layers import Dense\n",
    "from tensorflow.keras.layers import Flatten\n",
    "from tensorflow.keras.layers import Dropout\n",
    "from tensorflow.keras.utils import to_categorical\n",
    "from sklearn.model_selection import cross_val_score\n",
    "from sklearn.model_selection import KFold\n",
    "from sklearn.pipeline import Pipeline\n",
    "from sklearn.model_selection import train_test_split\n",
    "from tensorflow.keras.callbacks import ModelCheckpoint\n",
    "from tensorflow.keras.layers import TimeDistributed\n",
    "from tensorflow.keras.layers import Conv1D\n",
    "from tensorflow.keras.layers import MaxPooling1D\n",
    "from tensorflow.keras.utils import to_categorical\n",
    "from tensorflow.keras.layers import Dense, LSTM, Dropout, GRU, Bidirectional\n",
    "from sklearn.metrics import confusion_matrix\n",
    "import numpy as np\n",
    "from sklearn.datasets import make_circles\n",
    "from sklearn.metrics import accuracy_score\n",
    "from sklearn.metrics import precision_score\n",
    "from sklearn.metrics import recall_score\n",
    "from sklearn.metrics import f1_score\n",
    "from sklearn.metrics import cohen_kappa_score\n",
    "from sklearn.metrics import roc_auc_score\n",
    "from sklearn.metrics import confusion_matrix\n",
    "\n",
    "# Import the matplotlib library for plotting\n",
    "import matplotlib.pyplot as plt\n",
    "\n",
    "# set plot style\n",
    "plt.style.use('seaborn-whitegrid')\n",
    "\n",
    "# Use the magic function to ensure plots render in a notebook\n",
    "%matplotlib inline\n",
    "\n",
    "# Import the seaborn library for plotting\n",
    "import seaborn as sns\n",
    "\n",
    "from onn.OnlineNeuralNetwork import ONN\n",
    "from onn.OnlineNeuralNetwork import ONN_THS\n",
    "from sklearn.datasets import make_classification, make_circles\n",
    "from sklearn.model_selection import train_test_split\n",
    "import torch\n",
    "from sklearn.metrics import accuracy_score, balanced_accuracy_score\n",
    "from imblearn.datasets import make_imbalance\n",
    "import numpy as np"
   ]
  },
  {
   "cell_type": "code",
   "execution_count": 2,
   "id": "3d8fd7f4",
   "metadata": {},
   "outputs": [],
   "source": [
    "dataset = pd.read_excel(r\"GPS_data_balanced_main.xlsx\")"
   ]
  },
  {
   "cell_type": "code",
   "execution_count": 3,
   "id": "6c52bf78",
   "metadata": {},
   "outputs": [
    {
     "data": {
      "text/html": [
       "<div>\n",
       "<style scoped>\n",
       "    .dataframe tbody tr th:only-of-type {\n",
       "        vertical-align: middle;\n",
       "    }\n",
       "\n",
       "    .dataframe tbody tr th {\n",
       "        vertical-align: top;\n",
       "    }\n",
       "\n",
       "    .dataframe thead th {\n",
       "        text-align: right;\n",
       "    }\n",
       "</style>\n",
       "<table border=\"1\" class=\"dataframe\">\n",
       "  <thead>\n",
       "    <tr style=\"text-align: right;\">\n",
       "      <th></th>\n",
       "      <th>PRN</th>\n",
       "      <th>Carrier_Doppler_hz</th>\n",
       "      <th>Pseudorange_m</th>\n",
       "      <th>TOW_at_current_symbol_s</th>\n",
       "      <th>EC</th>\n",
       "      <th>LC</th>\n",
       "      <th>PC</th>\n",
       "      <th>PIP</th>\n",
       "      <th>PQP</th>\n",
       "      <th>TCD</th>\n",
       "      <th>CN0</th>\n",
       "      <th>Output</th>\n",
       "    </tr>\n",
       "  </thead>\n",
       "  <tbody>\n",
       "    <tr>\n",
       "      <th>0</th>\n",
       "      <td>6</td>\n",
       "      <td>1161.135932</td>\n",
       "      <td>-2.383686e+05</td>\n",
       "      <td>491568.0408</td>\n",
       "      <td>184442.36000</td>\n",
       "      <td>193125.89000</td>\n",
       "      <td>208228.02000</td>\n",
       "      <td>-205198.3000</td>\n",
       "      <td>35391.590000</td>\n",
       "      <td>1157.690900</td>\n",
       "      <td>49.480145</td>\n",
       "      <td>0</td>\n",
       "    </tr>\n",
       "    <tr>\n",
       "      <th>1</th>\n",
       "      <td>6</td>\n",
       "      <td>1161.156617</td>\n",
       "      <td>-2.383734e+05</td>\n",
       "      <td>491568.0608</td>\n",
       "      <td>159812.45000</td>\n",
       "      <td>169960.55000</td>\n",
       "      <td>187550.72000</td>\n",
       "      <td>187543.0000</td>\n",
       "      <td>-1701.944000</td>\n",
       "      <td>1161.134300</td>\n",
       "      <td>49.433769</td>\n",
       "      <td>0</td>\n",
       "    </tr>\n",
       "    <tr>\n",
       "      <th>2</th>\n",
       "      <td>6</td>\n",
       "      <td>1160.690893</td>\n",
       "      <td>-2.383781e+05</td>\n",
       "      <td>491568.0808</td>\n",
       "      <td>183557.66000</td>\n",
       "      <td>191912.58000</td>\n",
       "      <td>208403.50000</td>\n",
       "      <td>208330.0500</td>\n",
       "      <td>-5532.899900</td>\n",
       "      <td>1161.175900</td>\n",
       "      <td>49.391670</td>\n",
       "      <td>0</td>\n",
       "    </tr>\n",
       "    <tr>\n",
       "      <th>3</th>\n",
       "      <td>6</td>\n",
       "      <td>1160.807697</td>\n",
       "      <td>-2.383827e+05</td>\n",
       "      <td>491568.1008</td>\n",
       "      <td>178968.47000</td>\n",
       "      <td>184958.66000</td>\n",
       "      <td>198938.81000</td>\n",
       "      <td>198488.9800</td>\n",
       "      <td>-13370.641000</td>\n",
       "      <td>1160.690800</td>\n",
       "      <td>49.290367</td>\n",
       "      <td>0</td>\n",
       "    </tr>\n",
       "    <tr>\n",
       "      <th>4</th>\n",
       "      <td>6</td>\n",
       "      <td>1163.400529</td>\n",
       "      <td>-2.383870e+05</td>\n",
       "      <td>491568.1208</td>\n",
       "      <td>168080.86000</td>\n",
       "      <td>173257.44000</td>\n",
       "      <td>185404.97000</td>\n",
       "      <td>-184959.5800</td>\n",
       "      <td>12843.657000</td>\n",
       "      <td>1160.693200</td>\n",
       "      <td>49.303074</td>\n",
       "      <td>0</td>\n",
       "    </tr>\n",
       "    <tr>\n",
       "      <th>...</th>\n",
       "      <td>...</td>\n",
       "      <td>...</td>\n",
       "      <td>...</td>\n",
       "      <td>...</td>\n",
       "      <td>...</td>\n",
       "      <td>...</td>\n",
       "      <td>...</td>\n",
       "      <td>...</td>\n",
       "      <td>...</td>\n",
       "      <td>...</td>\n",
       "      <td>...</td>\n",
       "      <td>...</td>\n",
       "    </tr>\n",
       "    <tr>\n",
       "      <th>325499</th>\n",
       "      <td>4</td>\n",
       "      <td>-1118.292665</td>\n",
       "      <td>1.949385e+06</td>\n",
       "      <td>264109.6735</td>\n",
       "      <td>85886.82813</td>\n",
       "      <td>61329.85938</td>\n",
       "      <td>87648.14844</td>\n",
       "      <td>-83954.3125</td>\n",
       "      <td>-25176.798830</td>\n",
       "      <td>-1102.504883</td>\n",
       "      <td>42.704288</td>\n",
       "      <td>0</td>\n",
       "    </tr>\n",
       "    <tr>\n",
       "      <th>325500</th>\n",
       "      <td>7</td>\n",
       "      <td>3545.894354</td>\n",
       "      <td>2.823758e+06</td>\n",
       "      <td>264109.6706</td>\n",
       "      <td>107531.35160</td>\n",
       "      <td>109082.07810</td>\n",
       "      <td>123142.29690</td>\n",
       "      <td>119616.3125</td>\n",
       "      <td>-29256.857420</td>\n",
       "      <td>3524.595703</td>\n",
       "      <td>46.334122</td>\n",
       "      <td>0</td>\n",
       "    </tr>\n",
       "    <tr>\n",
       "      <th>325501</th>\n",
       "      <td>9</td>\n",
       "      <td>1206.630594</td>\n",
       "      <td>1.298429e+06</td>\n",
       "      <td>264109.6757</td>\n",
       "      <td>141574.87500</td>\n",
       "      <td>139169.45310</td>\n",
       "      <td>156087.78130</td>\n",
       "      <td>156078.0938</td>\n",
       "      <td>-1738.840820</td>\n",
       "      <td>2778.508789</td>\n",
       "      <td>47.498169</td>\n",
       "      <td>3</td>\n",
       "    </tr>\n",
       "    <tr>\n",
       "      <th>325502</th>\n",
       "      <td>27</td>\n",
       "      <td>2815.545864</td>\n",
       "      <td>2.298911e+06</td>\n",
       "      <td>264109.6723</td>\n",
       "      <td>164279.40630</td>\n",
       "      <td>149921.35940</td>\n",
       "      <td>177528.12430</td>\n",
       "      <td>175577.5781</td>\n",
       "      <td>26244.027340</td>\n",
       "      <td>2786.775146</td>\n",
       "      <td>46.232616</td>\n",
       "      <td>3</td>\n",
       "    </tr>\n",
       "    <tr>\n",
       "      <th>325503</th>\n",
       "      <td>16</td>\n",
       "      <td>-1126.755063</td>\n",
       "      <td>1.930879e+06</td>\n",
       "      <td>264109.6736</td>\n",
       "      <td>115693.60160</td>\n",
       "      <td>115469.14060</td>\n",
       "      <td>130011.08560</td>\n",
       "      <td>129952.6953</td>\n",
       "      <td>3896.070801</td>\n",
       "      <td>-1219.634888</td>\n",
       "      <td>45.308540</td>\n",
       "      <td>3</td>\n",
       "    </tr>\n",
       "  </tbody>\n",
       "</table>\n",
       "<p>325504 rows × 12 columns</p>\n",
       "</div>"
      ],
      "text/plain": [
       "        PRN  Carrier_Doppler_hz  Pseudorange_m  TOW_at_current_symbol_s  \\\n",
       "0         6         1161.135932  -2.383686e+05              491568.0408   \n",
       "1         6         1161.156617  -2.383734e+05              491568.0608   \n",
       "2         6         1160.690893  -2.383781e+05              491568.0808   \n",
       "3         6         1160.807697  -2.383827e+05              491568.1008   \n",
       "4         6         1163.400529  -2.383870e+05              491568.1208   \n",
       "...     ...                 ...            ...                      ...   \n",
       "325499    4        -1118.292665   1.949385e+06              264109.6735   \n",
       "325500    7         3545.894354   2.823758e+06              264109.6706   \n",
       "325501    9         1206.630594   1.298429e+06              264109.6757   \n",
       "325502   27         2815.545864   2.298911e+06              264109.6723   \n",
       "325503   16        -1126.755063   1.930879e+06              264109.6736   \n",
       "\n",
       "                  EC            LC            PC          PIP           PQP  \\\n",
       "0       184442.36000  193125.89000  208228.02000 -205198.3000  35391.590000   \n",
       "1       159812.45000  169960.55000  187550.72000  187543.0000  -1701.944000   \n",
       "2       183557.66000  191912.58000  208403.50000  208330.0500  -5532.899900   \n",
       "3       178968.47000  184958.66000  198938.81000  198488.9800 -13370.641000   \n",
       "4       168080.86000  173257.44000  185404.97000 -184959.5800  12843.657000   \n",
       "...              ...           ...           ...          ...           ...   \n",
       "325499   85886.82813   61329.85938   87648.14844  -83954.3125 -25176.798830   \n",
       "325500  107531.35160  109082.07810  123142.29690  119616.3125 -29256.857420   \n",
       "325501  141574.87500  139169.45310  156087.78130  156078.0938  -1738.840820   \n",
       "325502  164279.40630  149921.35940  177528.12430  175577.5781  26244.027340   \n",
       "325503  115693.60160  115469.14060  130011.08560  129952.6953   3896.070801   \n",
       "\n",
       "                TCD        CN0  Output  \n",
       "0       1157.690900  49.480145       0  \n",
       "1       1161.134300  49.433769       0  \n",
       "2       1161.175900  49.391670       0  \n",
       "3       1160.690800  49.290367       0  \n",
       "4       1160.693200  49.303074       0  \n",
       "...             ...        ...     ...  \n",
       "325499 -1102.504883  42.704288       0  \n",
       "325500  3524.595703  46.334122       0  \n",
       "325501  2778.508789  47.498169       3  \n",
       "325502  2786.775146  46.232616       3  \n",
       "325503 -1219.634888  45.308540       3  \n",
       "\n",
       "[325504 rows x 12 columns]"
      ]
     },
     "execution_count": 3,
     "metadata": {},
     "output_type": "execute_result"
    }
   ],
   "source": [
    "dataset"
   ]
  },
  {
   "cell_type": "code",
   "execution_count": 4,
   "id": "e68fb2fa",
   "metadata": {},
   "outputs": [
    {
     "name": "stdout",
     "output_type": "stream",
     "text": [
      "<class 'pandas.core.frame.DataFrame'>\n",
      "RangeIndex: 325504 entries, 0 to 325503\n",
      "Data columns (total 12 columns):\n",
      " #   Column                   Non-Null Count   Dtype  \n",
      "---  ------                   --------------   -----  \n",
      " 0   PRN                      325504 non-null  int64  \n",
      " 1   Carrier_Doppler_hz       325504 non-null  float64\n",
      " 2   Pseudorange_m            325504 non-null  float64\n",
      " 3   TOW_at_current_symbol_s  325504 non-null  float64\n",
      " 4   EC                       325504 non-null  float64\n",
      " 5   LC                       325504 non-null  float64\n",
      " 6   PC                       325504 non-null  float64\n",
      " 7   PIP                      325504 non-null  float64\n",
      " 8   PQP                      325504 non-null  float64\n",
      " 9   TCD                      325504 non-null  float64\n",
      " 10  CN0                      325504 non-null  float64\n",
      " 11  Output                   325504 non-null  int64  \n",
      "dtypes: float64(10), int64(2)\n",
      "memory usage: 29.8 MB\n"
     ]
    }
   ],
   "source": [
    "dataset.info()"
   ]
  },
  {
   "cell_type": "markdown",
   "id": "c3824986",
   "metadata": {},
   "source": [
    "# ONN"
   ]
  },
  {
   "cell_type": "code",
   "execution_count": 86,
   "id": "87cf64b3",
   "metadata": {},
   "outputs": [],
   "source": [
    "# split into input (X) and output (y) variables\n",
    "X1 = dataset.drop('Output', axis=1)\n",
    "y1 = dataset['Output']\n",
    "\n",
    "X1 = X1.to_numpy()\n",
    "y1 = y1.to_numpy()\n",
    "X1_train, X1_test, y1_train, y1_test = train_test_split(X1, y1, test_size=0.3, random_state=8, shuffle=True)"
   ]
  },
  {
   "cell_type": "code",
   "execution_count": 87,
   "id": "c9593a58",
   "metadata": {},
   "outputs": [],
   "source": [
    "onn_network = ONN(features_size=11, max_num_hidden_layers=5, qtd_neuron_per_hidden_layer=40, n_classes=11)"
   ]
  },
  {
   "cell_type": "code",
   "execution_count": 90,
   "id": "8ba816ce",
   "metadata": {
    "scrolled": true
   },
   "outputs": [
    {
     "name": "stdout",
     "output_type": "stream",
     "text": [
      "Online Accuracy: 0.25\n",
      "Online Accuracy: 0.25\n",
      "Online Accuracy: 0.25\n",
      "Online Accuracy: 0.25\n",
      "Online Accuracy: 0.25\n",
      "Online Accuracy: 0.25\n",
      "Online Accuracy: 0.25\n",
      "Online Accuracy: 0.25\n",
      "Online Accuracy: 0.25\n",
      "Online Accuracy: 0.25\n",
      "Online Accuracy: 0.25\n",
      "Online Accuracy: 0.25\n",
      "Online Accuracy: 0.25\n",
      "Online Accuracy: 0.25\n",
      "Online Accuracy: 0.25\n",
      "Online Accuracy: 0.25\n",
      "Online Accuracy: 0.25\n",
      "Online Accuracy: 0.25\n",
      "Online Accuracy: 0.25\n",
      "Online Accuracy: 0.25\n",
      "Online Accuracy: 0.25\n",
      "Online Accuracy: 0.25\n",
      "Online Accuracy: 0.25\n",
      "Online Accuracy: 0.25\n",
      "Online Accuracy: 0.25\n",
      "Online Accuracy: 0.25\n",
      "Online Accuracy: 0.25\n",
      "Online Accuracy: 0.25\n",
      "Online Accuracy: 0.25\n",
      "Online Accuracy: 0.25\n",
      "Online Accuracy: 0.25\n",
      "Online Accuracy: 0.25\n",
      "Online Accuracy: 0.25\n",
      "Online Accuracy: 0.25\n",
      "Online Accuracy: 0.25\n",
      "Online Accuracy: 0.25\n",
      "Online Accuracy: 0.25\n",
      "Online Accuracy: 0.25\n",
      "Online Accuracy: 0.25\n",
      "Online Accuracy: 0.25\n",
      "Online Accuracy: 0.25\n",
      "Online Accuracy: 0.25\n",
      "Online Accuracy: 0.25\n",
      "Online Accuracy: 0.25\n",
      "Online Accuracy: 0.25\n",
      "Online Accuracy: 0.25\n",
      "Online Accuracy: 0.25\n"
     ]
    },
    {
     "name": "stderr",
     "output_type": "stream",
     "text": [
      "\n",
      "KeyboardInterrupt\n",
      "\n"
     ]
    }
   ],
   "source": [
    "for i in range(len(X1_train)):\n",
    "    onn_network.partial_fit(np.asarray([X1_train[i, :]]), np.asarray([y1_train[i]]))\n",
    "    if i % 1000 == 0:\n",
    "        predictions = onn_network.predict(X1_test)\n",
    "        print(\"Online Accuracy: {}\".format(balanced_accuracy_score(y1_test, predictions)))"
   ]
  },
  {
   "cell_type": "code",
   "execution_count": 91,
   "id": "07c3e59f",
   "metadata": {},
   "outputs": [],
   "source": [
    "predictions = onn_network.predict(X1_test)"
   ]
  },
  {
   "cell_type": "code",
   "execution_count": 93,
   "id": "b514466c",
   "metadata": {
    "scrolled": false
   },
   "outputs": [
    {
     "name": "stdout",
     "output_type": "stream",
     "text": [
      "ERROR: Could not find file <ipython-input-93-7739b4a029b3>\n",
      "NOTE: %mprun can only be used on functions defined in physical files, and not in the IPython environment.\n",
      "======ONN ======\n",
      "TN : 59546\n",
      "FP : 0\n",
      "FN : 12554\n",
      "TP : 0\n",
      " \n",
      "Prob of Detection     : 0.0\n",
      " \n",
      "Prob of False Alarm   : 0.0\n",
      " \n",
      "Prob of Mis-Detection : 100.0\n",
      " \n",
      "Overall accuracy      : 0.83\n",
      "===============================\n",
      "\n",
      "              precision    recall  f1-score   support\n",
      "\n",
      "           0       0.61      1.00      0.76     59546\n",
      "           1       0.00      0.00      0.00     12554\n",
      "           2       0.00      0.00      0.00     13425\n",
      "           3       0.00      0.00      0.00     12127\n",
      "\n",
      "    accuracy                           0.61     97652\n",
      "   macro avg       0.15      0.25      0.19     97652\n",
      "weighted avg       0.37      0.61      0.46     97652\n",
      "\n",
      "processing time 3.7\n",
      "training time 0.07\n",
      "training time per sample 3.072169653985921e-07\n",
      "testing  time 0.01\n",
      "Filename: C:\\Users\\Hamza\\anaconda3\\lib\\site-packages\\memory_profiler.py\n",
      "\n",
      "Line #    Mem usage    Increment  Occurrences   Line Contents\n",
      "=============================================================\n",
      "  1183   1071.6 MiB   1071.6 MiB           1               @wraps(wrapped=func)\n",
      "  1184                                                     def wrapper(*args, **kwargs):\n",
      "  1185   1071.6 MiB      0.0 MiB           1                   prof = get_prof()\n",
      "  1186   1072.0 MiB      0.5 MiB           1                   val = prof(func)(*args, **kwargs)\n",
      "  1187   1072.0 MiB      0.0 MiB           1                   show_results_bound(prof)\n",
      "  1188   1072.0 MiB      0.0 MiB           1                   return val\n",
      "\n",
      "\n"
     ]
    },
    {
     "data": {
      "image/png": "[encoded data removed]",
      "text/plain": [
       "<Figure size 432x288 with 2 Axes>"
      ]
     },
     "metadata": {
      "needs_background": "light"
     },
     "output_type": "display_data"
    }
   ],
   "source": [
    "@profile\n",
    "@profile\n",
    "\n",
    "def my_func():\n",
    "    \n",
    "    time_a_1 = time.time()\n",
    "    time_c_1 = time.time()\n",
    "    \n",
    "    \n",
    "    # metrics calculation\n",
    "    #pred1 = model.predict(X_test)   \n",
    "    cm=confusion_matrix(y1_test, np.round(predictions))\n",
    "    cm\n",
    "    TN, FP, FN, TP = confusion_matrix(y1_test, np.round(predictions), labels=[0, 1]).ravel()\n",
    "\n",
    "    \n",
    "    \n",
    "    print('======ONN ======')\n",
    "    print('TN : {}\\nFP : {}\\nFN : {}\\nTP : {}'.format(TN, FP, FN, TP))\n",
    "    print(' ')\n",
    "    \n",
    "    \n",
    "    time_d_1 = time.time()\n",
    "    training_time_1 = round(time_d_1 - time_c_1,2)\n",
    "\n",
    "    time_e_1 = time.time()\n",
    "    \n",
    "    \n",
    "    \n",
    "    # Probability of Detection\n",
    "    prob_of_detect_1 = round((TP/(TP+FN))*100,2)\n",
    "    print('Prob of Detection     : {}'.format(prob_of_detect_1))\n",
    "    print(' ')\n",
    "    # Probability of False Alarm\n",
    "    prob_of_false_1 = round((FP/(FP+TN))*100,2)\n",
    "    print('Prob of False Alarm   : {}'.format(prob_of_false_1))\n",
    "    print(' ')\n",
    "    # Probability of Mis-Detection\n",
    "    prob_of_misdetect_1 = round((FN/(TP+FN))*100,2)\n",
    "    print('Prob of Mis-Detection : {}'.format(prob_of_misdetect_1))\n",
    "    print(' ')\n",
    "    # Overall accuracy\n",
    "    accuracy_1 = round((TP+TN)/(TP+FP+FN+TN),2)\n",
    "    print('Overall accuracy      : {}'.format(accuracy_1))\n",
    "    print(\"===============================\\n\")\n",
    "    \n",
    "    time_f_1 = time.time()\n",
    "    testing_time_1 = round(time_f_1 - time_e_1,2)\n",
    "\n",
    "    \n",
    "    \n",
    "    \n",
    "    sns.heatmap(cm, annot=True, fmt=\".3f\", linewidths=.5, square = True, cmap = 'Blues_r');\n",
    "    print(classification_report(y1_test,np.round(predictions)))\n",
    "    \n",
    "    from sklearn.metrics import roc_curve, auc\n",
    "    import matplotlib.pyplot as plt\n",
    "    \n",
    "    fpr1, tpr1, threshold = roc_curve(np.round(predictions),y1_test)\n",
    "    auc1 = auc(fpr1, tpr1)\n",
    "\n",
    "    \n",
    "    time_b_1 = time.time()\n",
    "    processing_time_1 = round(time_b_1 - time_a_1,2)\n",
    "    \n",
    "    print('processing time', processing_time_1)\n",
    "    print('training time', training_time_1)\n",
    "    print('training time per sample', training_time_1 /len(X1_train))\n",
    "    print('testing  time', testing_time_1)\n",
    "\n",
    "\n",
    "\n",
    "    \n",
    "if __name__ == '__main__':\n",
    "    my_func()"
   ]
  },
  {
   "cell_type": "markdown",
   "id": "203c5fa0",
   "metadata": {},
   "source": [
    "# DNN"
   ]
  },
  {
   "cell_type": "code",
   "execution_count": 193,
   "id": "b3ea314d",
   "metadata": {},
   "outputs": [
    {
     "data": {
      "text/plain": [
       "(260403, 11, 1)"
      ]
     },
     "execution_count": 193,
     "metadata": {},
     "output_type": "execute_result"
    }
   ],
   "source": [
    "X= dataset .iloc[:, :-1].values\n",
    "X = X.reshape(X.shape[0], X.shape[1], 1)\n",
    "#X = dataset .iloc[:, :-1].values\n",
    "Y = dataset .iloc[:, -1].values\n",
    "X_train, X_test, y_train, y_test = train_test_split(X, Y, test_size = 0.2, random_state = 20)\n",
    "X_train.shape"
   ]
  },
  {
   "cell_type": "code",
   "execution_count": 95,
   "id": "1a3e487e",
   "metadata": {},
   "outputs": [
    {
     "name": "stdout",
     "output_type": "stream",
     "text": [
      "Model: \"sequential_4\"\n",
      "_________________________________________________________________\n",
      " Layer (type)                Output Shape              Param #   \n",
      "=================================================================\n",
      " dense_5 (Dense)             (None, 256)               3072      \n",
      "                                                                 \n",
      " dense_6 (Dense)             (None, 128)               32896     \n",
      "                                                                 \n",
      " dense_7 (Dense)             (None, 64)                8256      \n",
      "                                                                 \n",
      " dense_8 (Dense)             (None, 10)                650       \n",
      "                                                                 \n",
      " dense_9 (Dense)             (None, 1)                 11        \n",
      "                                                                 \n",
      "=================================================================\n",
      "Total params: 44,885\n",
      "Trainable params: 44,885\n",
      "Non-trainable params: 0\n",
      "_________________________________________________________________\n"
     ]
    }
   ],
   "source": [
    "input_dim = X_train.shape[1]  # Number of features\n",
    "\n",
    "model = Sequential()\n",
    "model.add(layers.Dense(256, input_dim=input_dim, activation='relu'))\n",
    "model.add(layers.Dense(128,input_dim=input_dim, activation='relu'))\n",
    "model.add(layers.Dense(64, input_dim=input_dim, activation='relu'))\n",
    "model.add(layers.Dense(10, input_dim=input_dim, activation='relu'))\n",
    "model.add(layers.Dense(1, activation='sigmoid'))\n",
    "model.compile(loss='binary_crossentropy', optimizer='adam', metrics=['accuracy'])\n",
    "model.summary()"
   ]
  },
  {
   "cell_type": "code",
   "execution_count": 96,
   "id": "1572db5e",
   "metadata": {},
   "outputs": [
    {
     "name": "stdout",
     "output_type": "stream",
     "text": [
      "Epoch 1/10\n",
      "579/579 [==============================] - 38s 65ms/step - loss: 106.3723 - accuracy: 0.1300 - val_loss: 0.5863 - val_accuracy: 0.1282\n",
      "Epoch 2/10\n",
      "579/579 [==============================] - 37s 63ms/step - loss: 0.5638 - accuracy: 0.1284 - val_loss: 0.5455 - val_accuracy: 0.1282\n",
      "Epoch 3/10\n",
      "579/579 [==============================] - 29s 50ms/step - loss: 0.5404 - accuracy: 0.1284 - val_loss: 0.5335 - val_accuracy: 0.1282\n",
      "Epoch 4/10\n",
      "579/579 [==============================] - 28s 49ms/step - loss: 0.5343 - accuracy: 0.1284 - val_loss: 0.5307 - val_accuracy: 0.1282\n",
      "Epoch 5/10\n",
      "579/579 [==============================] - 28s 49ms/step - loss: 0.5331 - accuracy: 0.1284 - val_loss: 0.5302 - val_accuracy: 0.1282\n",
      "Epoch 6/10\n",
      "579/579 [==============================] - 32s 55ms/step - loss: 0.5330 - accuracy: 0.1284 - val_loss: 0.5302 - val_accuracy: 0.1282\n",
      "Epoch 7/10\n",
      "579/579 [==============================] - 28s 49ms/step - loss: 0.5330 - accuracy: 0.1284 - val_loss: 0.5302 - val_accuracy: 0.1282\n",
      "Epoch 8/10\n",
      "579/579 [==============================] - 28s 49ms/step - loss: 0.5330 - accuracy: 0.1284 - val_loss: 0.5302 - val_accuracy: 0.1282\n",
      "Epoch 9/10\n",
      "579/579 [==============================] - 30s 52ms/step - loss: 0.5330 - accuracy: 0.1284 - val_loss: 0.5302 - val_accuracy: 0.1282\n",
      "Epoch 10/10\n",
      "579/579 [==============================] - 28s 49ms/step - loss: 0.5330 - accuracy: 0.1284 - val_loss: 0.5302 - val_accuracy: 0.1282\n"
     ]
    }
   ],
   "source": [
    "# To display all metrics from training a model, just use this:\n",
    "history = model.fit(X_train, y_train,epochs=10,verbose=1,validation_data=(X_test, y_test),batch_size=450)"
   ]
  },
  {
   "cell_type": "code",
   "execution_count": 97,
   "id": "1041bd97",
   "metadata": {
    "scrolled": false
   },
   "outputs": [
    {
     "name": "stdout",
     "output_type": "stream",
     "text": [
      "ERROR: Could not find file <ipython-input-97-7f777db743ce>\n",
      "NOTE: %mprun can only be used on functions defined in physical files, and not in the IPython environment.\n",
      "2035/2035 [==============================] - 99s 49ms/step\n",
      "======DNN ======\n",
      "TN : 0\n",
      "FP : 39685\n",
      "FN : 0\n",
      "TP : 8346\n",
      " \n",
      "Prob of Detection     : 100.0\n",
      " \n",
      "Prob of False Alarm   : 100.0\n",
      " \n",
      "Prob of Mis-Detection : 0.0\n",
      " \n",
      "Overall accuracy      : 0.17\n",
      "===============================\n",
      "\n",
      "              precision    recall  f1-score   support\n",
      "\n",
      "           0       0.00      0.00      0.00     39685\n",
      "           1       0.13      1.00      0.23      8346\n",
      "           2       0.00      0.00      0.00      8945\n",
      "           3       0.00      0.00      0.00      8125\n",
      "\n",
      "    accuracy                           0.13     65101\n",
      "   macro avg       0.03      0.25      0.06     65101\n",
      "weighted avg       0.02      0.13      0.03     65101\n",
      "\n"
     ]
    },
    {
     "data": {
      "image/png": "[encoded data removed]",
      "text/plain": [
       "<Figure size 432x288 with 2 Axes>"
      ]
     },
     "metadata": {
      "needs_background": "light"
     },
     "output_type": "display_data"
    },
    {
     "data": {
      "image/png": "[encoded data removed]",
      "text/plain": [
       "<Figure size 1080x1296 with 1 Axes>"
      ]
     },
     "metadata": {
      "needs_background": "light"
     },
     "output_type": "display_data"
    },
    {
     "data": {
      "image/png": "[encoded data removed]",
      "text/plain": [
       "<Figure size 500x500 with 1 Axes>"
      ]
     },
     "metadata": {
      "needs_background": "light"
     },
     "output_type": "display_data"
    },
    {
     "name": "stdout",
     "output_type": "stream",
     "text": [
      "processing time 114.93\n",
      "training time 106.32\n",
      "training time per sample 0.00040829022707111664\n",
      "testing  time 0.01\n",
      "Filename: C:\\Users\\Hamza\\anaconda3\\lib\\site-packages\\memory_profiler.py\n",
      "\n",
      "Line #    Mem usage    Increment  Occurrences   Line Contents\n",
      "=============================================================\n",
      "  1183   1119.9 MiB   1119.9 MiB           1               @wraps(wrapped=func)\n",
      "  1184                                                     def wrapper(*args, **kwargs):\n",
      "  1185   1119.9 MiB      0.0 MiB           1                   prof = get_prof()\n",
      "  1186   1124.6 MiB      4.7 MiB           1                   val = prof(func)(*args, **kwargs)\n",
      "  1187   1124.6 MiB      0.0 MiB           1                   show_results_bound(prof)\n",
      "  1188   1124.6 MiB      0.0 MiB           1                   return val\n",
      "\n",
      "\n"
     ]
    }
   ],
   "source": [
    "@profile\n",
    "@profile\n",
    "\n",
    "def my_func():\n",
    "    \n",
    "    time_a_1 = time.time()\n",
    "    time_c_1 = time.time()\n",
    "    \n",
    "    \n",
    "    # metrics calculation\n",
    "    pred1 = model.predict(X_test)   \n",
    "    cm=confusion_matrix(y_test, np.round(pred1))\n",
    "    cm\n",
    "    TN, FP, FN, TP = confusion_matrix(y_test, np.round(pred1), labels=[0, 1]).ravel()\n",
    "\n",
    "    \n",
    "    \n",
    "    print('======DNN ======')\n",
    "    print('TN : {}\\nFP : {}\\nFN : {}\\nTP : {}'.format(TN, FP, FN, TP))\n",
    "    print(' ')\n",
    "    \n",
    "    \n",
    "    time_d_1 = time.time()\n",
    "    training_time_1 = round(time_d_1 - time_c_1,2)\n",
    "\n",
    "    time_e_1 = time.time()\n",
    "    \n",
    "    \n",
    "    \n",
    "    # Probability of Detection\n",
    "    prob_of_detect_1 = round((TP/(TP+FN))*100,2)\n",
    "    print('Prob of Detection     : {}'.format(prob_of_detect_1))\n",
    "    print(' ')\n",
    "    # Probability of False Alarm\n",
    "    prob_of_false_1 = round((FP/(FP+TN))*100,2)\n",
    "    print('Prob of False Alarm   : {}'.format(prob_of_false_1))\n",
    "    print(' ')\n",
    "    # Probability of Mis-Detection\n",
    "    prob_of_misdetect_1 = round((FN/(TP+FN))*100,2)\n",
    "    print('Prob of Mis-Detection : {}'.format(prob_of_misdetect_1))\n",
    "    print(' ')\n",
    "    # Overall accuracy\n",
    "    accuracy_1 = round((TP+TN)/(TP+FP+FN+TN),2)\n",
    "    print('Overall accuracy      : {}'.format(accuracy_1))\n",
    "    print(\"===============================\\n\")\n",
    "    \n",
    "    time_f_1 = time.time()\n",
    "    testing_time_1 = round(time_f_1 - time_e_1,2)\n",
    "\n",
    "    \n",
    "    \n",
    "    \n",
    "    sns.heatmap(cm, annot=True, fmt=\".3f\", linewidths=.5, square = True, cmap = 'Blues_r');\n",
    "    print(classification_report(y_test,np.round(pred1)))\n",
    "    \n",
    "    from sklearn.metrics import roc_curve, auc\n",
    "    import matplotlib.pyplot as plt\n",
    "    losses=history.history['loss']\n",
    "    val_losses=history.history['val_loss']\n",
    "    fig = plt.figure(figsize=(15,18))\n",
    "    plt.subplot(3, 2, 1)\n",
    "    plt.plot(losses, label='Training loss')\n",
    "    plt.plot(val_losses, label='Validation loss')\n",
    "    plt.title('Model loss')\n",
    "    plt.ylabel('loss value')\n",
    "    plt.xlabel('Noumber of epoch')\n",
    "    plt.show()\n",
    "    \n",
    "    fpr1, tpr1, threshold = roc_curve(np.round(pred1),y_test)\n",
    "    auc1 = auc(fpr1, tpr1)\n",
    "\n",
    "    plt.figure(figsize=(10, 10), dpi=50)\n",
    "    plt.plot(fpr1, tpr1, marker='^',color = \"g\", label='auc = %0.2f' % auc1)\n",
    "    plt.xlabel('False Positive Rate -->')\n",
    "    plt.ylabel('True Positive Rate -->')\n",
    "    plt.legend()\n",
    "    plt.show()\n",
    "    \n",
    "    \n",
    "    time_b_1 = time.time()\n",
    "    processing_time_1 = round(time_b_1 - time_a_1,2)\n",
    "    \n",
    "    print('processing time', processing_time_1)\n",
    "    print('training time', training_time_1)\n",
    "    print('training time per sample', training_time_1 /len(X_train))\n",
    "    print('testing  time', testing_time_1)\n",
    "\n",
    "\n",
    "    \n",
    "if __name__ == '__main__':\n",
    "    my_func()"
   ]
  },
  {
   "cell_type": "markdown",
   "id": "eb66fd3b",
   "metadata": {},
   "source": [
    "# UNET"
   ]
  },
  {
   "cell_type": "code",
   "execution_count": 194,
   "id": "6a831222",
   "metadata": {},
   "outputs": [],
   "source": [
    "IMG_HEIGHT=128\n",
    "IMG_WIDTH=128\n",
    "IMG_CHANNELS=1\n",
    "\n",
    "X_train = np.zeros((len(X_train[:100]), IMG_HEIGHT, IMG_WIDTH, IMG_CHANNELS), dtype=np.uint8)\n",
    "X_test = np.zeros((len(X_test[:100]), IMG_HEIGHT, IMG_WIDTH, IMG_CHANNELS), dtype=np.uint8)\n",
    "\n",
    "Y_train = np.zeros((len(y_train[:100]), IMG_HEIGHT, IMG_WIDTH, 1), dtype=np.bool)\n",
    "Y_test = np.zeros((len(y_test[:100]), IMG_HEIGHT, IMG_WIDTH, 1), dtype=np.bool)"
   ]
  },
  {
   "cell_type": "code",
   "execution_count": 195,
   "id": "04ca7a48",
   "metadata": {
    "scrolled": true
   },
   "outputs": [
    {
     "data": {
      "text/plain": [
       "(100, 128, 128, 1)"
      ]
     },
     "execution_count": 195,
     "metadata": {},
     "output_type": "execute_result"
    }
   ],
   "source": [
    "X_train.shape"
   ]
  },
  {
   "cell_type": "code",
   "execution_count": 100,
   "id": "85d8aeef",
   "metadata": {},
   "outputs": [],
   "source": [
    "def conv2d_block(input_tensor, n_filters, kernel_size = 3, batchnorm = True):\n",
    "    \"\"\"Function to add 2 convolutional layers with the parameters passed to it\"\"\"\n",
    "    # first layer\n",
    "    x = Conv2D(filters = n_filters, kernel_size = (kernel_size, kernel_size),\\\n",
    "              kernel_initializer = 'he_normal', padding = 'same')(input_tensor)\n",
    "    if batchnorm:\n",
    "        x = BatchNormalization()(x)\n",
    "    x = Activation('relu')(x)\n",
    "    \n",
    "    # second layer\n",
    "    x = Conv2D(filters = n_filters, kernel_size = (kernel_size, kernel_size),\\\n",
    "              kernel_initializer = 'he_normal', padding = 'same')(input_tensor)\n",
    "    if batchnorm:\n",
    "        x = BatchNormalization()(x)\n",
    "    x = Activation('relu')(x)\n",
    "    \n",
    "    return x"
   ]
  },
  {
   "cell_type": "code",
   "execution_count": 101,
   "id": "060bbd11",
   "metadata": {},
   "outputs": [],
   "source": [
    "def get_unet(input_img, n_filters = 16, dropout = 0.1, batchnorm = True):\n",
    "    \"\"\"Function to define the UNET Model\"\"\"\n",
    "    # Contracting Path\n",
    "    c1 = conv2d_block(input_img, n_filters * 1, kernel_size = 3, batchnorm = batchnorm)\n",
    "    p1 = MaxPooling2D((2, 2))(c1)\n",
    "    p1 = Dropout(dropout)(p1)\n",
    "    \n",
    "    c2 = conv2d_block(p1, n_filters * 2, kernel_size = 3, batchnorm = batchnorm)\n",
    "    p2 = MaxPooling2D((2, 2))(c2)\n",
    "    p2 = Dropout(dropout)(p2)\n",
    "    \n",
    "    c3 = conv2d_block(p2, n_filters * 4, kernel_size = 3, batchnorm = batchnorm)\n",
    "    p3 = MaxPooling2D((2, 2))(c3)\n",
    "    p3 = Dropout(dropout)(p3)\n",
    "    \n",
    "    c4 = conv2d_block(p3, n_filters * 8, kernel_size = 3, batchnorm = batchnorm)\n",
    "    p4 = MaxPooling2D((2, 2))(c4)\n",
    "    p4 = Dropout(dropout)(p4)\n",
    "    \n",
    "    c5 = conv2d_block(p4, n_filters = n_filters * 16, kernel_size = 3, batchnorm = batchnorm)\n",
    "    \n",
    "    # Expansive Path\n",
    "    u6 = Conv2DTranspose(n_filters * 8, (3, 3), strides = (2, 2), padding = 'same')(c5)\n",
    "    u6 = concatenate([u6, c4])\n",
    "    u6 = Dropout(dropout)(u6)\n",
    "    c6 = conv2d_block(u6, n_filters * 8, kernel_size = 3, batchnorm = batchnorm)\n",
    "    \n",
    "    u7 = Conv2DTranspose(n_filters * 4, (3, 3), strides = (2, 2), padding = 'same')(c6)\n",
    "    u7 = concatenate([u7, c3])\n",
    "    u7 = Dropout(dropout)(u7)\n",
    "    c7 = conv2d_block(u7, n_filters * 4, kernel_size = 3, batchnorm = batchnorm)\n",
    "    \n",
    "    u8 = Conv2DTranspose(n_filters * 2, (3, 3), strides = (2, 2), padding = 'same')(c7)\n",
    "    u8 = concatenate([u8, c2])\n",
    "    u8 = Dropout(dropout)(u8)\n",
    "    c8 = conv2d_block(u8, n_filters * 2, kernel_size = 3, batchnorm = batchnorm)\n",
    "    \n",
    "    u9 = Conv2DTranspose(n_filters * 1, (3, 3), strides = (2, 2), padding = 'same')(c8)\n",
    "    u9 = concatenate([u9, c1])\n",
    "    u9 = Dropout(dropout)(u9)\n",
    "    c9 = conv2d_block(u9, n_filters * 1, kernel_size = 3, batchnorm = batchnorm)\n",
    "    \n",
    "    outputs = Conv2D(1, (1, 1), activation='sigmoid')(c9)\n",
    "    model = Model(inputs=[input_img], outputs=[outputs])\n",
    "    return model"
   ]
  },
  {
   "cell_type": "code",
   "execution_count": 103,
   "id": "5f35fc8b",
   "metadata": {},
   "outputs": [],
   "source": [
    "input_img = Input((128, 128, 1), name='img')\n",
    "model = get_unet(input_img, n_filters=16, dropout=0.05, batchnorm=True)\n",
    "model.compile(optimizer=Adam(), loss=\"binary_crossentropy\", metrics=[\"accuracy\"])\n"
   ]
  },
  {
   "cell_type": "code",
   "execution_count": 104,
   "id": "caaabb58",
   "metadata": {},
   "outputs": [
    {
     "name": "stdout",
     "output_type": "stream",
     "text": [
      "Model: \"model_1\"\n",
      "__________________________________________________________________________________________________\n",
      " Layer (type)                   Output Shape         Param #     Connected to                     \n",
      "==================================================================================================\n",
      " img (InputLayer)               [(None, 128, 128, 1  0           []                               \n",
      "                                )]                                                                \n",
      "                                                                                                  \n",
      " conv2d_20 (Conv2D)             (None, 128, 128, 16  160         ['img[0][0]']                    \n",
      "                                )                                                                 \n",
      "                                                                                                  \n",
      " batch_normalization_19 (BatchN  (None, 128, 128, 16  64         ['conv2d_20[0][0]']              \n",
      " ormalization)                  )                                                                 \n",
      "                                                                                                  \n",
      " activation_19 (Activation)     (None, 128, 128, 16  0           ['batch_normalization_19[0][0]'] \n",
      "                                )                                                                 \n",
      "                                                                                                  \n",
      " max_pooling2d_4 (MaxPooling2D)  (None, 64, 64, 16)  0           ['activation_19[0][0]']          \n",
      "                                                                                                  \n",
      " dropout_8 (Dropout)            (None, 64, 64, 16)   0           ['max_pooling2d_4[0][0]']        \n",
      "                                                                                                  \n",
      " conv2d_22 (Conv2D)             (None, 64, 64, 32)   4640        ['dropout_8[0][0]']              \n",
      "                                                                                                  \n",
      " batch_normalization_21 (BatchN  (None, 64, 64, 32)  128         ['conv2d_22[0][0]']              \n",
      " ormalization)                                                                                    \n",
      "                                                                                                  \n",
      " activation_21 (Activation)     (None, 64, 64, 32)   0           ['batch_normalization_21[0][0]'] \n",
      "                                                                                                  \n",
      " max_pooling2d_5 (MaxPooling2D)  (None, 32, 32, 32)  0           ['activation_21[0][0]']          \n",
      "                                                                                                  \n",
      " dropout_9 (Dropout)            (None, 32, 32, 32)   0           ['max_pooling2d_5[0][0]']        \n",
      "                                                                                                  \n",
      " conv2d_24 (Conv2D)             (None, 32, 32, 64)   18496       ['dropout_9[0][0]']              \n",
      "                                                                                                  \n",
      " batch_normalization_23 (BatchN  (None, 32, 32, 64)  256         ['conv2d_24[0][0]']              \n",
      " ormalization)                                                                                    \n",
      "                                                                                                  \n",
      " activation_23 (Activation)     (None, 32, 32, 64)   0           ['batch_normalization_23[0][0]'] \n",
      "                                                                                                  \n",
      " max_pooling2d_6 (MaxPooling2D)  (None, 16, 16, 64)  0           ['activation_23[0][0]']          \n",
      "                                                                                                  \n",
      " dropout_10 (Dropout)           (None, 16, 16, 64)   0           ['max_pooling2d_6[0][0]']        \n",
      "                                                                                                  \n",
      " conv2d_26 (Conv2D)             (None, 16, 16, 128)  73856       ['dropout_10[0][0]']             \n",
      "                                                                                                  \n",
      " batch_normalization_25 (BatchN  (None, 16, 16, 128)  512        ['conv2d_26[0][0]']              \n",
      " ormalization)                                                                                    \n",
      "                                                                                                  \n",
      " activation_25 (Activation)     (None, 16, 16, 128)  0           ['batch_normalization_25[0][0]'] \n",
      "                                                                                                  \n",
      " max_pooling2d_7 (MaxPooling2D)  (None, 8, 8, 128)   0           ['activation_25[0][0]']          \n",
      "                                                                                                  \n",
      " dropout_11 (Dropout)           (None, 8, 8, 128)    0           ['max_pooling2d_7[0][0]']        \n",
      "                                                                                                  \n",
      " conv2d_28 (Conv2D)             (None, 8, 8, 256)    295168      ['dropout_11[0][0]']             \n",
      "                                                                                                  \n",
      " batch_normalization_27 (BatchN  (None, 8, 8, 256)   1024        ['conv2d_28[0][0]']              \n",
      " ormalization)                                                                                    \n",
      "                                                                                                  \n",
      " activation_27 (Activation)     (None, 8, 8, 256)    0           ['batch_normalization_27[0][0]'] \n",
      "                                                                                                  \n",
      " conv2d_transpose_4 (Conv2DTran  (None, 16, 16, 128)  295040     ['activation_27[0][0]']          \n",
      " spose)                                                                                           \n",
      "                                                                                                  \n",
      " concatenate_4 (Concatenate)    (None, 16, 16, 256)  0           ['conv2d_transpose_4[0][0]',     \n",
      "                                                                  'activation_25[0][0]']          \n",
      "                                                                                                  \n",
      " dropout_12 (Dropout)           (None, 16, 16, 256)  0           ['concatenate_4[0][0]']          \n",
      "                                                                                                  \n",
      " conv2d_30 (Conv2D)             (None, 16, 16, 128)  295040      ['dropout_12[0][0]']             \n",
      "                                                                                                  \n",
      " batch_normalization_29 (BatchN  (None, 16, 16, 128)  512        ['conv2d_30[0][0]']              \n",
      " ormalization)                                                                                    \n",
      "                                                                                                  \n",
      " activation_29 (Activation)     (None, 16, 16, 128)  0           ['batch_normalization_29[0][0]'] \n",
      "                                                                                                  \n",
      " conv2d_transpose_5 (Conv2DTran  (None, 32, 32, 64)  73792       ['activation_29[0][0]']          \n",
      " spose)                                                                                           \n",
      "                                                                                                  \n",
      " concatenate_5 (Concatenate)    (None, 32, 32, 128)  0           ['conv2d_transpose_5[0][0]',     \n",
      "                                                                  'activation_23[0][0]']          \n",
      "                                                                                                  \n",
      " dropout_13 (Dropout)           (None, 32, 32, 128)  0           ['concatenate_5[0][0]']          \n",
      "                                                                                                  \n",
      " conv2d_32 (Conv2D)             (None, 32, 32, 64)   73792       ['dropout_13[0][0]']             \n"
     ]
    },
    {
     "name": "stdout",
     "output_type": "stream",
     "text": [
      "                                                                                                  \n",
      " batch_normalization_31 (BatchN  (None, 32, 32, 64)  256         ['conv2d_32[0][0]']              \n",
      " ormalization)                                                                                    \n",
      "                                                                                                  \n",
      " activation_31 (Activation)     (None, 32, 32, 64)   0           ['batch_normalization_31[0][0]'] \n",
      "                                                                                                  \n",
      " conv2d_transpose_6 (Conv2DTran  (None, 64, 64, 32)  18464       ['activation_31[0][0]']          \n",
      " spose)                                                                                           \n",
      "                                                                                                  \n",
      " concatenate_6 (Concatenate)    (None, 64, 64, 64)   0           ['conv2d_transpose_6[0][0]',     \n",
      "                                                                  'activation_21[0][0]']          \n",
      "                                                                                                  \n",
      " dropout_14 (Dropout)           (None, 64, 64, 64)   0           ['concatenate_6[0][0]']          \n",
      "                                                                                                  \n",
      " conv2d_34 (Conv2D)             (None, 64, 64, 32)   18464       ['dropout_14[0][0]']             \n",
      "                                                                                                  \n",
      " batch_normalization_33 (BatchN  (None, 64, 64, 32)  128         ['conv2d_34[0][0]']              \n",
      " ormalization)                                                                                    \n",
      "                                                                                                  \n",
      " activation_33 (Activation)     (None, 64, 64, 32)   0           ['batch_normalization_33[0][0]'] \n",
      "                                                                                                  \n",
      " conv2d_transpose_7 (Conv2DTran  (None, 128, 128, 16  4624       ['activation_33[0][0]']          \n",
      " spose)                         )                                                                 \n",
      "                                                                                                  \n",
      " concatenate_7 (Concatenate)    (None, 128, 128, 32  0           ['conv2d_transpose_7[0][0]',     \n",
      "                                )                                 'activation_19[0][0]']          \n",
      "                                                                                                  \n",
      " dropout_15 (Dropout)           (None, 128, 128, 32  0           ['concatenate_7[0][0]']          \n",
      "                                )                                                                 \n",
      "                                                                                                  \n",
      " conv2d_36 (Conv2D)             (None, 128, 128, 16  4624        ['dropout_15[0][0]']             \n",
      "                                )                                                                 \n",
      "                                                                                                  \n",
      " batch_normalization_35 (BatchN  (None, 128, 128, 16  64         ['conv2d_36[0][0]']              \n",
      " ormalization)                  )                                                                 \n",
      "                                                                                                  \n",
      " activation_35 (Activation)     (None, 128, 128, 16  0           ['batch_normalization_35[0][0]'] \n",
      "                                )                                                                 \n",
      "                                                                                                  \n",
      " conv2d_37 (Conv2D)             (None, 128, 128, 1)  17          ['activation_35[0][0]']          \n",
      "                                                                                                  \n",
      "==================================================================================================\n",
      "Total params: 1,179,121\n",
      "Trainable params: 1,177,649\n",
      "Non-trainable params: 1,472\n",
      "__________________________________________________________________________________________________\n"
     ]
    }
   ],
   "source": [
    "model.summary()"
   ]
  },
  {
   "cell_type": "code",
   "execution_count": 105,
   "id": "4252dc26",
   "metadata": {},
   "outputs": [
    {
     "name": "stdout",
     "output_type": "stream",
     "text": [
      "Epoch 1/10\n",
      "4/4 [==============================] - 2s 500ms/step - loss: 0.6926 - accuracy: 1.0000 - val_loss: 0.6911 - val_accuracy: 1.0000\n",
      "Epoch 2/10\n",
      "4/4 [==============================] - 2s 475ms/step - loss: 0.6906 - accuracy: 1.0000 - val_loss: 0.6892 - val_accuracy: 1.0000\n",
      "Epoch 3/10\n",
      "4/4 [==============================] - 2s 478ms/step - loss: 0.6886 - accuracy: 1.0000 - val_loss: 0.6872 - val_accuracy: 1.0000\n",
      "Epoch 4/10\n",
      "4/4 [==============================] - 2s 469ms/step - loss: 0.6866 - accuracy: 1.0000 - val_loss: 0.6852 - val_accuracy: 1.0000\n",
      "Epoch 5/10\n",
      "4/4 [==============================] - 2s 471ms/step - loss: 0.6846 - accuracy: 1.0000 - val_loss: 0.6832 - val_accuracy: 1.0000\n",
      "Epoch 6/10\n",
      "4/4 [==============================] - 2s 475ms/step - loss: 0.6827 - accuracy: 1.0000 - val_loss: 0.6812 - val_accuracy: 1.0000\n",
      "Epoch 7/10\n",
      "4/4 [==============================] - 2s 479ms/step - loss: 0.6807 - accuracy: 1.0000 - val_loss: 0.6793 - val_accuracy: 1.0000\n",
      "Epoch 8/10\n",
      "4/4 [==============================] - 2s 478ms/step - loss: 0.6787 - accuracy: 1.0000 - val_loss: 0.6773 - val_accuracy: 1.0000\n",
      "Epoch 9/10\n",
      "4/4 [==============================] - 2s 485ms/step - loss: 0.6768 - accuracy: 1.0000 - val_loss: 0.6753 - val_accuracy: 1.0000\n",
      "Epoch 10/10\n",
      "4/4 [==============================] - 2s 491ms/step - loss: 0.6748 - accuracy: 1.0000 - val_loss: 0.6734 - val_accuracy: 1.0000\n"
     ]
    }
   ],
   "source": [
    "tf.config.experimental_run_functions_eagerly(True)\n",
    "\n",
    "results = model.fit(X_train, Y_train, batch_size=32, epochs=10,\n",
    "                    \n",
    "                    validation_data=(X_test, Y_test))"
   ]
  },
  {
   "cell_type": "code",
   "execution_count": 176,
   "id": "58f1527e",
   "metadata": {},
   "outputs": [
    {
     "name": "stdout",
     "output_type": "stream",
     "text": [
      "ERROR: Could not find file <ipython-input-176-7f9f59a196fd>\n",
      "NOTE: %mprun can only be used on functions defined in physical files, and not in the IPython environment.\n",
      "processing time 0.72\n",
      "training time 1050\n",
      "training time per sample 0.003225766810853323\n",
      "Filename: C:\\Users\\Hamza\\anaconda3\\lib\\site-packages\\memory_profiler.py\n",
      "\n",
      "Line #    Mem usage    Increment  Occurrences   Line Contents\n",
      "=============================================================\n",
      "  1183   1351.1 MiB   1351.1 MiB           1               @wraps(wrapped=func)\n",
      "  1184                                                     def wrapper(*args, **kwargs):\n",
      "  1185   1351.1 MiB      0.0 MiB           1                   prof = get_prof()\n",
      "  1186   1351.1 MiB      0.1 MiB           1                   val = prof(func)(*args, **kwargs)\n",
      "  1187   1351.1 MiB      0.0 MiB           1                   show_results_bound(prof)\n",
      "  1188   1351.1 MiB      0.0 MiB           1                   return val\n",
      "\n",
      "\n"
     ]
    },
    {
     "data": {
      "image/png": "[encoded data removed]",
      "text/plain": [
       "<Figure size 576x576 with 1 Axes>"
      ]
     },
     "metadata": {
      "needs_background": "light"
     },
     "output_type": "display_data"
    }
   ],
   "source": [
    "@profile\n",
    "@profile\n",
    "\n",
    "def my_func():\n",
    "    \n",
    "    time_a_1 = time.time()\n",
    "    time_c_1 = time.time()\n",
    "    plt.figure(figsize=(8, 8))\n",
    "    plt.title(\"Learning curve\")\n",
    "    plt.plot(results.history[\"loss\"], label=\"loss\")\n",
    "    plt.plot(results.history[\"val_loss\"], label=\"val_loss\")\n",
    "    plt.plot( np.argmin(results.history[\"val_loss\"]), np.min(results.history[\"val_loss\"]), marker=\"x\", color=\"r\", label=\"best model\")\n",
    "    plt.xlabel(\"Epochs\")\n",
    "    plt.ylabel(\"log_loss\")\n",
    "    plt.legend();\n",
    "    time_b_1 = time.time()\n",
    "    processing_time_1 = round(time_b_1 - time_a_1,2)\n",
    "          \n",
    "    print('processing time', processing_time_1)\n",
    "    print('training time', training_time_1)\n",
    "    print('training time per sample', training_time_1 /len(X))\n",
    "\n",
    "\n",
    "    \n",
    "if __name__ == '__main__':\n",
    "    my_func()"
   ]
  },
  {
   "cell_type": "code",
   "execution_count": 196,
   "id": "672d460d",
   "metadata": {},
   "outputs": [
    {
     "name": "stdout",
     "output_type": "stream",
     "text": [
      "4/4 [==============================] - 0s 104ms/step\n",
      "4/4 [==============================] - 0s 99ms/step\n"
     ]
    }
   ],
   "source": [
    "# Predict on train, val and test\n",
    "preds_train = model.predict(X_train, verbose=1)\n",
    "preds_val = model.predict(X_test, verbose=1)"
   ]
  },
  {
   "cell_type": "code",
   "execution_count": 184,
   "id": "54363195",
   "metadata": {},
   "outputs": [
    {
     "name": "stdout",
     "output_type": "stream",
     "text": [
      "4/4 [==============================] - 0s 100ms/step\n"
     ]
    }
   ],
   "source": [
    "# predict \n",
    "pred = model.predict(preds_train, batch_size = 32)\n",
    "pred = np.argmax(pred, axis=1)\n",
    "# label\n",
    "y_train = np.argmax(y_train, axis=1)"
   ]
  },
  {
   "cell_type": "code",
   "execution_count": 187,
   "id": "e538195e",
   "metadata": {},
   "outputs": [
    {
     "name": "stdout",
     "output_type": "stream",
     "text": [
      "(260403,) (100, 128, 1)\n"
     ]
    }
   ],
   "source": [
    "print(y_train.shape, pred.shape)"
   ]
  },
  {
   "cell_type": "code",
   "execution_count": 197,
   "id": "74d208e2",
   "metadata": {},
   "outputs": [
    {
     "data": {
      "text/plain": [
       "(1638400,)"
      ]
     },
     "execution_count": 197,
     "metadata": {},
     "output_type": "execute_result"
    }
   ],
   "source": [
    "preds_val = preds_val.reshape(100*128*128*1)\n",
    "\n",
    "preds_val.shape"
   ]
  },
  {
   "cell_type": "code",
   "execution_count": 202,
   "id": "95b84116",
   "metadata": {},
   "outputs": [
    {
     "data": {
      "text/plain": [
       "array([[62,  0,  0,  0],\n",
       "       [12,  0,  0,  0],\n",
       "       [16,  0,  0,  0],\n",
       "       [10,  0,  0,  0]], dtype=int64)"
      ]
     },
     "execution_count": 202,
     "metadata": {},
     "output_type": "execute_result"
    }
   ],
   "source": [
    "cm=confusion_matrix( y_test[:100], np.round(preds_val)[:100])\n",
    "cm\n"
   ]
  },
  {
   "cell_type": "code",
   "execution_count": 206,
   "id": "aeaa7b08",
   "metadata": {
    "scrolled": false
   },
   "outputs": [
    {
     "name": "stdout",
     "output_type": "stream",
     "text": [
      "ERROR: Could not find file <ipython-input-206-18e6af93f9d5>\n",
      "NOTE: %mprun can only be used on functions defined in physical files, and not in the IPython environment.\n",
      "4/4 [==============================] - 1s 310ms/step\n",
      "4/4 [==============================] - 1s 351ms/step\n",
      "======DNN ======\n",
      "TN : 62\n",
      "FP : 0\n",
      "FN : 12\n",
      "TP : 0\n",
      " \n",
      "Prob of Detection     : 100.0\n",
      " \n",
      "Prob of False Alarm   : 0.0\n",
      " \n",
      "Prob of Mis-Detection : 0.0\n",
      " \n",
      "Overall accuracy      : 0.84\n",
      "===============================\n",
      "\n",
      "              precision    recall  f1-score   support\n",
      "\n",
      "           0       0.62      1.00      0.77        62\n",
      "           1       0.00      0.00      0.00        12\n",
      "           2       0.00      0.00      0.00        16\n",
      "           3       0.00      0.00      0.00        10\n",
      "\n",
      "    accuracy                           0.62       100\n",
      "   macro avg       0.15      0.25      0.19       100\n",
      "weighted avg       0.38      0.62      0.47       100\n",
      "\n"
     ]
    },
    {
     "data": {
      "image/png": "[encoded data removed]",
      "text/plain": [
       "<Figure size 432x288 with 2 Axes>"
      ]
     },
     "metadata": {
      "needs_background": "light"
     },
     "output_type": "display_data"
    },
    {
     "data": {
      "image/png": "[encoded data removed]",
      "text/plain": [
       "<Figure size 1080x1296 with 1 Axes>"
      ]
     },
     "metadata": {
      "needs_background": "light"
     },
     "output_type": "display_data"
    },
    {
     "data": {
      "image/png": "[encoded data removed]",
      "text/plain": [
       "<Figure size 500x500 with 1 Axes>"
      ]
     },
     "metadata": {
      "needs_background": "light"
     },
     "output_type": "display_data"
    },
    {
     "name": "stdout",
     "output_type": "stream",
     "text": [
      "processing time 13.73\n",
      "training time 3.95\n",
      "training time per sample 0.0395\n",
      "testing  time 0.01\n",
      "Filename: C:\\Users\\Hamza\\anaconda3\\lib\\site-packages\\memory_profiler.py\n",
      "\n",
      "Line #    Mem usage    Increment  Occurrences   Line Contents\n",
      "=============================================================\n",
      "  1183   1056.6 MiB   1056.6 MiB           1               @wraps(wrapped=func)\n",
      "  1184                                                     def wrapper(*args, **kwargs):\n",
      "  1185   1056.6 MiB      0.0 MiB           1                   prof = get_prof()\n",
      "  1186   1059.0 MiB      2.3 MiB           1                   val = prof(func)(*args, **kwargs)\n",
      "  1187   1059.0 MiB      0.0 MiB           1                   show_results_bound(prof)\n",
      "  1188   1059.0 MiB      0.0 MiB           1                   return val\n",
      "\n",
      "\n"
     ]
    }
   ],
   "source": [
    "@profile\n",
    "@profile\n",
    "\n",
    "def my_func():\n",
    "    \n",
    "    time_a_1 = time.time()\n",
    "    time_c_1 = time.time()\n",
    "    \n",
    "    \n",
    "    # metrics calculation\n",
    "    # Predict on train, val and test\n",
    "    preds_train = model.predict(X_train, verbose=1)\n",
    "    preds_val = model.predict(X_test, verbose=1)\n",
    "    preds_val = preds_val.reshape(100*128*128*1)\n",
    "    \n",
    "    \n",
    "    cm=confusion_matrix(y_test[:100], np.round(preds_val)[:100][:100])\n",
    "    cm\n",
    "    TN, FP, FN, TP = confusion_matrix(y_test[:100], np.round(preds_val)[:100], labels=[0, 1]).ravel()\n",
    "\n",
    "    \n",
    "    \n",
    "    print('======DNN ======')\n",
    "    print('TN : {}\\nFP : {}\\nFN : {}\\nTP : {}'.format(TN, FP, FN, TP))\n",
    "    print(' ')\n",
    "    \n",
    "    \n",
    "    time_d_1 = time.time()\n",
    "    training_time_1 = round(time_d_1 - time_c_1,2)\n",
    "\n",
    "    time_e_1 = time.time()\n",
    "    \n",
    "    \n",
    "    \n",
    "    # Probability of Detection\n",
    "    prob_of_detect_1 = round((FN/(TP+FN))*100,2)\n",
    "    print('Prob of Detection     : {}'.format(prob_of_detect_1))\n",
    "    print(' ')\n",
    "    # Probability of False Alarm\n",
    "    prob_of_false_1 = round((FP/(FP+TN))*100,2)\n",
    "    print('Prob of False Alarm   : {}'.format(prob_of_false_1))\n",
    "    print(' ')\n",
    "    # Probability of Mis-Detection\n",
    "    prob_of_misdetect_1 = round((TP/(TP+FN))*100,2)\n",
    "    print('Prob of Mis-Detection : {}'.format(prob_of_misdetect_1))\n",
    "    print(' ')\n",
    "    # Overall accuracy\n",
    "    accuracy_1 = round((TP+TN)/(TP+FP+FN+TN),2)\n",
    "    print('Overall accuracy      : {}'.format(accuracy_1))\n",
    "    print(\"===============================\\n\")\n",
    "    \n",
    "    time_f_1 = time.time()\n",
    "    testing_time_1 = round(time_f_1 - time_e_1,2)\n",
    "\n",
    "    \n",
    "    \n",
    "    \n",
    "    sns.heatmap(cm, annot=True, fmt=\".3f\", linewidths=.5, square = True, cmap = 'Blues_r');\n",
    "    print(classification_report(y_test[:100], np.round(preds_val)[:100]))\n",
    "    \n",
    "    from sklearn.metrics import roc_curve, auc\n",
    "    import matplotlib.pyplot as plt\n",
    "    losses=history.history['loss']\n",
    "    val_losses=history.history['val_loss']\n",
    "    fig = plt.figure(figsize=(15,18))\n",
    "    plt.subplot(3, 2, 1)\n",
    "    plt.plot(losses, label='Training loss')\n",
    "    plt.plot(val_losses, label='Validation loss')\n",
    "    plt.title('Model loss')\n",
    "    plt.ylabel('loss value')\n",
    "    plt.xlabel('Noumber of epoch')\n",
    "    plt.show()\n",
    "    \n",
    "    fpr1, tpr1, threshold = roc_curve(np.round(preds_val)[:100] , y_test[:100])\n",
    "    auc1 = auc(fpr1, tpr1)\n",
    "\n",
    "    plt.figure(figsize=(10, 10), dpi=50)\n",
    "    plt.plot(fpr1, tpr1, marker='^',color = \"g\", label='auc = %0.2f' % auc1)\n",
    "    plt.xlabel('False Positive Rate -->')\n",
    "    plt.ylabel('True Positive Rate -->')\n",
    "    plt.legend()\n",
    "    plt.show()\n",
    "    \n",
    "    \n",
    "    time_b_1 = time.time()\n",
    "    processing_time_1 = round(time_b_1 - time_a_1,2)\n",
    "    \n",
    "    print('processing time', processing_time_1)\n",
    "    print('training time', training_time_1)\n",
    "    print('training time per sample', training_time_1 /len(X_train))\n",
    "    print('testing  time', testing_time_1)\n",
    "\n",
    "\n",
    "    \n",
    "if __name__ == '__main__':\n",
    "    my_func()"
   ]
  },
  {
   "cell_type": "markdown",
   "id": "9dafc98d",
   "metadata": {},
   "source": [
    "# RBF"
   ]
  },
  {
   "cell_type": "code",
   "execution_count": 50,
   "id": "dc9a9fc1",
   "metadata": {},
   "outputs": [],
   "source": [
    "from keras.layers import Layer\n",
    "from keras import backend as K\n",
    "\n",
    "class RBFLayer(Layer):\n",
    "    def __init__(self, units, gamma, **kwargs):\n",
    "        super(RBFLayer, self).__init__(**kwargs)\n",
    "        self.units = units\n",
    "        self.gamma = K.cast_to_floatx(gamma)\n",
    "\n",
    "    def build(self, input_shape):\n",
    "#         print(input_shape)\n",
    "#         print(self.units)\n",
    "        self.mu = self.add_weight(name='mu',\n",
    "                                  shape=(int(input_shape[1]), self.units),\n",
    "                                  initializer='uniform',\n",
    "                                  trainable=True)\n",
    "        super(RBFLayer, self).build(input_shape)\n",
    "\n",
    "    def call(self, inputs):\n",
    "        diff = K.expand_dims(inputs) - self.mu\n",
    "        l2 = K.sum(K.pow(diff, 2), axis=1)\n",
    "        res = K.exp(-1 * self.gamma * l2)\n",
    "        return res\n",
    "\n",
    "    def compute_output_shape(self, input_shape):\n",
    "        return (input_shape[0], self.units)"
   ]
  },
  {
   "cell_type": "code",
   "execution_count": 59,
   "id": "4b71d770",
   "metadata": {},
   "outputs": [],
   "source": [
    "from keras.layers import Dense, Flatten\n",
    "from keras.models import Sequential\n",
    "from keras.losses import binary_crossentropy\n",
    "\n",
    "model = Sequential()\n",
    "model.add(Flatten(input_shape=(11, 1)))\n",
    "model.add(RBFLayer(10, 0.5))\n",
    "model.add(Dense(1, activation='sigmoid', name='foo'))\n",
    "\n",
    "model.compile(optimizer='rmsprop', loss=binary_crossentropy, metrics=[\"accuracy\"])"
   ]
  },
  {
   "cell_type": "code",
   "execution_count": 60,
   "id": "f5625d51",
   "metadata": {},
   "outputs": [
    {
     "name": "stdout",
     "output_type": "stream",
     "text": [
      "Model: \"sequential_3\"\n",
      "_________________________________________________________________\n",
      " Layer (type)                Output Shape              Param #   \n",
      "=================================================================\n",
      " flatten_2 (Flatten)         (None, 11)                0         \n",
      "                                                                 \n",
      " rbf_layer_2 (RBFLayer)      (None, 10)                110       \n",
      "                                                                 \n",
      " foo (Dense)                 (None, 1)                 11        \n",
      "                                                                 \n",
      "=================================================================\n",
      "Total params: 121\n",
      "Trainable params: 121\n",
      "Non-trainable params: 0\n",
      "_________________________________________________________________\n"
     ]
    }
   ],
   "source": [
    "model.summary()"
   ]
  },
  {
   "cell_type": "code",
   "execution_count": 73,
   "id": "6cae63fe",
   "metadata": {
    "scrolled": false
   },
   "outputs": [
    {
     "name": "stdout",
     "output_type": "stream",
     "text": [
      "Epoch 1/10\n",
      "1272/1272 [==============================] - 57s 45ms/step - loss: 0.5324 - accuracy: 0.1284\n",
      "Epoch 2/10\n",
      "1272/1272 [==============================] - 66s 52ms/step - loss: 0.5324 - accuracy: 0.1284\n",
      "Epoch 3/10\n",
      "1272/1272 [==============================] - 57s 45ms/step - loss: 0.5324 - accuracy: 0.1284\n",
      "Epoch 4/10\n",
      "1272/1272 [==============================] - 59s 46ms/step - loss: 0.5324 - accuracy: 0.1284\n",
      "Epoch 5/10\n",
      "1272/1272 [==============================] - 57s 45ms/step - loss: 0.5324 - accuracy: 0.1284\n",
      "Epoch 6/10\n",
      "1272/1272 [==============================] - 55s 44ms/step - loss: 0.5324 - accuracy: 0.1284\n",
      "Epoch 7/10\n",
      "1272/1272 [==============================] - 54s 43ms/step - loss: 0.5324 - accuracy: 0.1284\n",
      "Epoch 8/10\n",
      "1272/1272 [==============================] - 53s 42ms/step - loss: 0.5324 - accuracy: 0.1284\n",
      "Epoch 9/10\n",
      "1272/1272 [==============================] - 54s 42ms/step - loss: 0.5324 - accuracy: 0.1284\n",
      "Epoch 10/10\n",
      "1272/1272 [==============================] - 54s 43ms/step - loss: 0.5324 - accuracy: 0.1284\n"
     ]
    }
   ],
   "source": [
    "history = model.fit(X, Y, batch_size=256, epochs=10)"
   ]
  },
  {
   "cell_type": "code",
   "execution_count": 85,
   "id": "99e5e0b1",
   "metadata": {
    "scrolled": false
   },
   "outputs": [
    {
     "name": "stdout",
     "output_type": "stream",
     "text": [
      "ERROR: Could not find file <ipython-input-85-2c7e10051e0d>\n",
      "NOTE: %mprun can only be used on functions defined in physical files, and not in the IPython environment.\n",
      "10172/10172 [==============================] - 360s 35ms/step\n",
      "======RBF ======\n",
      "TN : 0\n",
      "FP : 198751\n",
      "FN : 0\n",
      "TP : 41780\n",
      " \n",
      "Prob of Detection     : 100.0\n",
      " \n",
      "Prob of False Alarm   : 100.0\n",
      " \n",
      "Prob of Mis-Detection : 0.0\n",
      " \n",
      "Overall accuracy      : 0.17\n",
      "===============================\n",
      "\n",
      "              precision    recall  f1-score   support\n",
      "\n",
      "           0       0.00      0.00      0.00    198751\n",
      "           1       0.13      1.00      0.23     41780\n",
      "           2       0.00      0.00      0.00     44232\n",
      "           3       0.00      0.00      0.00     40741\n",
      "\n",
      "    accuracy                           0.13    325504\n",
      "   macro avg       0.03      0.25      0.06    325504\n",
      "weighted avg       0.02      0.13      0.03    325504\n",
      "\n"
     ]
    },
    {
     "data": {
      "image/png": "[encoded data removed]",
      "text/plain": [
       "<Figure size 432x288 with 2 Axes>"
      ]
     },
     "metadata": {
      "needs_background": "light"
     },
     "output_type": "display_data"
    },
    {
     "data": {
      "image/png": "[encoded data removed]",
      "text/plain": [
       "<Figure size 1080x1296 with 1 Axes>"
      ]
     },
     "metadata": {
      "needs_background": "light"
     },
     "output_type": "display_data"
    },
    {
     "data": {
      "image/png": "[encoded data removed]",
      "text/plain": [
       "<Figure size 500x500 with 1 Axes>"
      ]
     },
     "metadata": {
      "needs_background": "light"
     },
     "output_type": "display_data"
    },
    {
     "name": "stdout",
     "output_type": "stream",
     "text": [
      "processing time 432.47\n",
      "training time 421.2\n",
      "training time per sample 0.0012939933149823044\n",
      "testing  time 0.01\n",
      "Filename: C:\\Users\\Hamza\\anaconda3\\lib\\site-packages\\memory_profiler.py\n",
      "\n",
      "Line #    Mem usage    Increment  Occurrences   Line Contents\n",
      "=============================================================\n",
      "  1183   1000.0 MiB   1000.0 MiB           1               @wraps(wrapped=func)\n",
      "  1184                                                     def wrapper(*args, **kwargs):\n",
      "  1185   1000.0 MiB      0.0 MiB           1                   prof = get_prof()\n",
      "  1186    953.3 MiB    -46.7 MiB           1                   val = prof(func)(*args, **kwargs)\n",
      "  1187    953.3 MiB      0.0 MiB           1                   show_results_bound(prof)\n",
      "  1188    953.3 MiB      0.0 MiB           1                   return val\n",
      "\n",
      "\n"
     ]
    }
   ],
   "source": [
    "@profile\n",
    "@profile\n",
    "\n",
    "def my_func():\n",
    "    \n",
    "    time_a_1 = time.time()\n",
    "    time_c_1 = time.time()\n",
    "    \n",
    "    \n",
    "    # metrics calculation\n",
    "    pred1 = model.predict(X)   \n",
    "    cm=confusion_matrix(Y, np.round(pred1))\n",
    "    cm\n",
    "    TN, FP, FN, TP = confusion_matrix(Y, np.round(pred1), labels=[0, 1]).ravel()\n",
    "\n",
    "    \n",
    "    \n",
    "    print('======RBF ======')\n",
    "    print('TN : {}\\nFP : {}\\nFN : {}\\nTP : {}'.format(TN, FP, FN, TP))\n",
    "    print(' ')\n",
    "    \n",
    "    \n",
    "    time_d_1 = time.time()\n",
    "    training_time_1 = round(time_d_1 - time_c_1,2)\n",
    "\n",
    "    time_e_1 = time.time()\n",
    "    \n",
    "    \n",
    "    \n",
    "    # Probability of Detection\n",
    "    prob_of_detect_1 = round((TP/(TP+FN))*100,2)\n",
    "    print('Prob of Detection     : {}'.format(prob_of_detect_1))\n",
    "    print(' ')\n",
    "    # Probability of False Alarm\n",
    "    prob_of_false_1 = round((FP/(FP+TN))*100,2)\n",
    "    print('Prob of False Alarm   : {}'.format(prob_of_false_1))\n",
    "    print(' ')\n",
    "    # Probability of Mis-Detection\n",
    "    prob_of_misdetect_1 = round((FN/(TP+FN))*100,2)\n",
    "    print('Prob of Mis-Detection : {}'.format(prob_of_misdetect_1))\n",
    "    print(' ')\n",
    "    # Overall accuracy\n",
    "    accuracy_1 = round((TP+TN)/(TP+FP+FN+TN),2)\n",
    "    print('Overall accuracy      : {}'.format(accuracy_1))\n",
    "    print(\"===============================\\n\")\n",
    "    \n",
    "    time_f_1 = time.time()\n",
    "    testing_time_1 = round(time_f_1 - time_e_1,2)\n",
    "\n",
    "    \n",
    "    \n",
    "    \n",
    "    sns.heatmap(cm, annot=True, fmt=\".3f\", linewidths=.5, square = True, cmap = 'Blues_r');\n",
    "    print(classification_report(Y,np.round(pred1)))\n",
    "    \n",
    "    from sklearn.metrics import roc_curve, auc\n",
    "    import matplotlib.pyplot as plt\n",
    "    losses=history.history['loss']\n",
    "    fig = plt.figure(figsize=(15,18))\n",
    "    plt.subplot(3, 2, 1)\n",
    "    plt.plot(losses, label='Training loss')\n",
    "    plt.title('Model loss')\n",
    "    plt.ylabel('loss value')\n",
    "    plt.xlabel('Noumber of epoch')\n",
    "    plt.show()\n",
    "    \n",
    "    fpr1, tpr1, threshold = roc_curve(np.round(pred1),Y)\n",
    "    auc1 = auc(fpr1, tpr1)\n",
    "\n",
    "    plt.figure(figsize=(10, 10), dpi=50)\n",
    "    plt.plot(fpr1, tpr1, marker='^',color = \"g\", label='auc = %0.2f' % auc1)\n",
    "    plt.xlabel('False Positive Rate -->')\n",
    "    plt.ylabel('True Positive Rate -->')\n",
    "    plt.legend()\n",
    "    plt.show()\n",
    "    \n",
    "    \n",
    "    time_b_1 = time.time()\n",
    "    processing_time_1 = round(time_b_1 - time_a_1,2)\n",
    "          \n",
    "    print('processing time', processing_time_1)\n",
    "    print('training time', training_time_1)\n",
    "    print('training time per sample', training_time_1 /len(X))\n",
    "    print('testing  time', testing_time_1)\n",
    "\n",
    "\n",
    "    \n",
    "if __name__ == '__main__':\n",
    "    my_func()"
   ]
  },
  {
   "cell_type": "code",
   "execution_count": null,
   "id": "d11bc0ca",
   "metadata": {},
   "outputs": [],
   "source": []
  }
 ],
 "metadata": {
  "kernelspec": {
   "display_name": "Python 3 (ipykernel)",
   "language": "python",
   "name": "python3"
  },
  "language_info": {
   "codemirror_mode": {
    "name": "ipython",
    "version": 3
   },
   "file_extension": ".py",
   "mimetype": "text/x-python",
   "name": "python",
   "nbconvert_exporter": "python",
   "pygments_lexer": "ipython3",
   "version": "3.9.13"
  }
 },
 "nbformat": 4,
 "nbformat_minor": 5
}
